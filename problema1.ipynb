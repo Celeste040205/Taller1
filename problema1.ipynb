{
 "cells": [
  {
   "cell_type": "markdown",
   "id": "d081ade6",
   "metadata": {},
   "source": []
  },
  {
   "cell_type": "markdown",
   "id": "d209b5bd",
   "metadata": {},
   "source": [
    "# Ejercicio 1\n",
    "**Nombres:** Celeste Gallardo, Jesua Villacis"
   ]
  }
 ],
 "metadata": {
  "kernelspec": {
   "display_name": "Python 3",
   "language": "python",
   "name": "python3"
  },
  "language_info": {
   "codemirror_mode": {
    "name": "ipython",
    "version": 3
   },
   "file_extension": ".py",
   "mimetype": "text/x-python",
   "name": "python",
   "nbconvert_exporter": "python",
   "pygments_lexer": "ipython3",
   "version": "3.11.9"
  }
 },
 "nbformat": 4,
 "nbformat_minor": 5
}
