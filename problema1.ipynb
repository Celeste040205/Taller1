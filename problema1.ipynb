{
 "cells": [
  {
   "cell_type": "markdown",
   "id": "d081ade6",
   "metadata": {},
   "source": []
  },
  {
   "cell_type": "markdown",
   "id": "d209b5bd",
   "metadata": {},
   "source": [
    "# Ejercicio 1\n",
    "**Nombres:** Celeste Gallardo, Jesua Villacis"
   ]
  },
  {
   "cell_type": "markdown",
   "id": "f0863ab5",
   "metadata": {},
   "source": [
    "Algoritmo donde se la la suma de la todos los numeros ingresados, se puede seleccionar cuantos numero se quiere ingresar y despues ingresar los numeros que se van a sumar dando el resultado."
   ]
  },
  {
   "cell_type": "code",
   "execution_count": 32,
   "id": "b2649ec0",
   "metadata": {},
   "outputs": [
    {
     "name": "stdout",
     "output_type": "stream",
     "text": [
      "Suma total: 2.141666666666667\n"
     ]
    }
   ],
   "source": [
    "from fractions import Fraction\n",
    "# fractions es para que se puedan ingresar numeros como 1/2 o 3/4\n",
    "\n",
    "SUM = 0\n",
    "N = int(input(\"¿Cuántos números vas a sumar? \"))\n",
    "\n",
    "for i in range(N):\n",
    "    entrada = input(f\"Número {i+1}: \")\n",
    "    while not ('/' in entrada or entrada.replace('.', '', 1).lstrip('-').isdigit()):\n",
    "        print(\"Entrada no válida.\")\n",
    "        entrada = input(f\"Número {i+1}: \")\n",
    "    SUM += float(Fraction(entrada))\n",
    "\n",
    "print(\"Suma total:\", SUM)\n"
   ]
  },
  {
   "cell_type": "markdown",
   "id": "b2d0634c",
   "metadata": {},
   "source": [
    "**Usando el algoritmo 01:** ¿Cual es el numero minimo de elementos de la serie 1 + 1/2 + 1/4 + 1/6 + 1/8 +.... para alcanzar un error absoluto dentro de 10^-1?"
   ]
  },
  {
   "cell_type": "code",
   "execution_count": 33,
   "id": "ab07b1c5",
   "metadata": {},
   "outputs": [
    {
     "name": "stdout",
     "output_type": "stream",
     "text": [
      "Error absoluto: 0.14166666666666705\n"
     ]
    }
   ],
   "source": [
    "#error absoluto que se acerque a 0.1 en la serie 1 + 1/2 + 1/4 + 1/6 + 1/8\n",
    "\n",
    "y = (abs(SUM - 2)) # error absoluto\n",
    "print(\"Error absoluto:\", y)"
   ]
  },
  {
   "cell_type": "markdown",
   "id": "86d158c2",
   "metadata": {},
   "source": [
    "se acerca a 0.1 en la posicion 5 como se puede ver en la respuesta."
   ]
  }
 ],
 "metadata": {
  "kernelspec": {
   "display_name": "Python 3",
   "language": "python",
   "name": "python3"
  },
  "language_info": {
   "codemirror_mode": {
    "name": "ipython",
    "version": 3
   },
   "file_extension": ".py",
   "mimetype": "text/x-python",
   "name": "python",
   "nbconvert_exporter": "python",
   "pygments_lexer": "ipython3",
   "version": "3.11.9"
  }
 },
 "nbformat": 4,
 "nbformat_minor": 5
}
