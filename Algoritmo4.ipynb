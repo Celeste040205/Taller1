{
 "cells": [
  {
   "cell_type": "markdown",
   "id": "f7c44b75-2e98-46e9-8ba8-8830783381c8",
   "metadata": {},
   "source": [
    "#### Lunes 28 Abril 2025\n",
    "# Algoritmo N°4\n",
    "## Integrantes: Celeste Gallardo, Jesua Villacis"
   ]
  }
 ],
 "metadata": {
  "kernelspec": {
   "display_name": "Python 3 (ipykernel)",
   "language": "python",
   "name": "python3"
  },
  "language_info": {
   "codemirror_mode": {
    "name": "ipython",
    "version": 3
   },
   "file_extension": ".py",
   "mimetype": "text/x-python",
   "name": "python",
   "nbconvert_exporter": "python",
   "pygments_lexer": "ipython3",
   "version": "3.11.10"
  }
 },
 "nbformat": 4,
 "nbformat_minor": 5
}
