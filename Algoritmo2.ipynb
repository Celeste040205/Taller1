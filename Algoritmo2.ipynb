{
 "cells": [
  {
   "cell_type": "markdown",
   "id": "1cb8b8e2-5ac8-4370-b9cb-8be90456322c",
   "metadata": {},
   "source": [
    "#### Lunes 28 Abril 2025\n",
    "# Algoritmo N°2\n",
    "## Integrantes: Celeste Gallardo, Jesua Villacis\n"
   ]
  },
  {
   "cell_type": "code",
   "execution_count": 17,
   "id": "75b7187d-2e9a-4375-a645-f422bcf062c5",
   "metadata": {},
   "outputs": [],
   "source": [
    "def algoritmo2(arreglo):\n",
    "    contador = 0\n",
    "    for i in range(len(arreglo)):\n",
    "        swapped = False ##flag para verificar que no se haya cambiado\n",
    "        for j in range(1, len(arreglo)-1):\n",
    "            contador += 1\n",
    "            if (arreglo[j] < arreglo[j-1]): ##verifica si hay que cambiar\n",
    "                arreglo[j], arreglo[j-1] = arreglo[j-1], arreglo[j] ##remplaza posiciones\n",
    "                swapped = True ##cambia el estado de la bandera\n",
    "        if not swapped:\n",
    "             break\n",
    "    return contador"
   ]
  },
  {
   "cell_type": "code",
   "execution_count": 18,
   "id": "fe8fc92f-dbcd-4455-ad0f-89e81bde72e0",
   "metadata": {},
   "outputs": [
    {
     "name": "stdout",
     "output_type": "stream",
     "text": [
      "[2, 3, 4, 5, 1]\n",
      "Comparaciones: 12\n"
     ]
    }
   ],
   "source": [
    "arreglo = [5,4,3,2,1]\n",
    "comparaciones = algoritmo2(arreglo)\n",
    "print(arreglo)\n",
    "print('Comparaciones:', comparaciones)"
   ]
  }
 ],
 "metadata": {
  "kernelspec": {
   "display_name": "Python 3 (ipykernel)",
   "language": "python",
   "name": "python3"
  },
  "language_info": {
   "codemirror_mode": {
    "name": "ipython",
    "version": 3
   },
   "file_extension": ".py",
   "mimetype": "text/x-python",
   "name": "python",
   "nbconvert_exporter": "python",
   "pygments_lexer": "ipython3",
   "version": "3.11.10"
  }
 },
 "nbformat": 4,
 "nbformat_minor": 5
}
