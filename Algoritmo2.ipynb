{
 "cells": [
  {
   "cell_type": "markdown",
   "id": "1cb8b8e2-5ac8-4370-b9cb-8be90456322c",
   "metadata": {},
   "source": [
    "#### Lunes 28 Abril 2025\n",
    "# Algoritmo N°2\n",
    "## Integrantes: Celeste Gallardo, Jesua Villacis"
   ]
  },
  {
   "cell_type": "code",
   "execution_count": 1,
   "id": "75b7187d-2e9a-4375-a645-f422bcf062c5",
   "metadata": {},
   "outputs": [
    {
     "data": {
      "text/plain": [
       "20"
      ]
     },
     "execution_count": 1,
     "metadata": {},
     "output_type": "execute_result"
    }
   ],
   "source": []
  }
 ],
 "metadata": {
  "kernelspec": {
   "display_name": "Python 3 (ipykernel)",
   "language": "python",
   "name": "python3"
  },
  "language_info": {
   "codemirror_mode": {
    "name": "ipython",
    "version": 3
   },
   "file_extension": ".py",
   "mimetype": "text/x-python",
   "name": "python",
   "nbconvert_exporter": "python",
   "pygments_lexer": "ipython3",
   "version": "3.11.10"
  }
 },
 "nbformat": 4,
 "nbformat_minor": 5
}
